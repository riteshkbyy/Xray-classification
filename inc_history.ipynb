{
 "cells": [
  {
   "cell_type": "code",
   "execution_count": 1,
   "id": "7ac51fdb",
   "metadata": {},
   "outputs": [],
   "source": [
    "%store -r trainX\n",
    "%store -r testX\n",
    "%store -r trainY\n",
    "%store -r testY\n",
    "%store -r valX\n",
    "%store -r valY\n",
    "%store -r le"
   ]
  },
  {
   "cell_type": "code",
   "execution_count": 8,
   "id": "0be6dea3",
   "metadata": {},
   "outputs": [],
   "source": [
    "from tensorflow.keras.applications.inception_v3 import InceptionV3\n",
    "from tensorflow import keras\n",
    "from tensorflow.keras.models import Sequential, Model\n",
    "from tensorflow.keras.layers import Conv2D, MaxPool2D,Input\n",
    "from tensorflow.keras.layers import Activation, Dropout,BatchNormalization, Flatten, Dense\n",
    "from tensorflow.keras.optimizers import Adam, SGD\n",
    "from tensorflow.keras.utils import to_categorical\n",
    "import numpy as np\n",
    "import pandas as pd\n",
    "from sklearn.metrics import confusion_matrix, classification_report\n",
    "import seaborn as sns\n",
    "import matplotlib.pyplot as plt"
   ]
  },
  {
   "cell_type": "code",
   "execution_count": 3,
   "id": "74c248c8",
   "metadata": {},
   "outputs": [],
   "source": [
    "s=100\n",
    "batch_size = 40\n",
    "epochs = 50"
   ]
  },
  {
   "cell_type": "code",
   "execution_count": 4,
   "id": "00a72579",
   "metadata": {},
   "outputs": [
    {
     "name": "stdout",
     "output_type": "stream",
     "text": [
      "Downloading data from https://storage.googleapis.com/tensorflow/keras-applications/inception_v3/inception_v3_weights_tf_dim_ordering_tf_kernels_notop.h5\n",
      "87916544/87910968 [==============================] - 84s 1us/step\n",
      "87924736/87910968 [==============================] - 84s 1us/step\n"
     ]
    }
   ],
   "source": [
    "model_base = InceptionV3(input_shape = (s, s, 3), include_top = False)"
   ]
  },
  {
   "cell_type": "code",
   "execution_count": 6,
   "id": "cc257063",
   "metadata": {},
   "outputs": [],
   "source": [
    "x = Flatten()(model_base.output)\n",
    "x = Dense(512, activation='relu')(x)\n",
    "x = Dropout(0.5)(x)\n",
    "x = Dense(4, activation='sigmoid')(x)\n",
    "model = keras.models.Model(model_base.input, x)\n",
    "model.compile(optimizer = keras.optimizers.RMSprop(learning_rate=0.0001), loss = 'binary_crossentropy',metrics = ['acc'])"
   ]
  },
  {
   "cell_type": "code",
   "execution_count": 7,
   "id": "4f673a65",
   "metadata": {},
   "outputs": [],
   "source": [
    "early_stopping = keras.callbacks.EarlyStopping(\n",
    "    monitor = 'val_loss',\n",
    "    mode = 'auto',\n",
    "    min_delta = 0,\n",
    "    patience = 3,\n",
    "    verbose = 1,\n",
    "    restore_best_weights = True\n",
    ")"
   ]
  },
  {
   "cell_type": "code",
   "execution_count": null,
   "id": "a39532f7",
   "metadata": {},
   "outputs": [
    {
     "name": "stdout",
     "output_type": "stream",
     "text": [
      "Epoch 1/50\n",
      "34/34 [==============================] - 415s 12s/step - loss: 0.5322 - acc: 0.4616 - val_loss: 0.3991 - val_acc: 0.6726\n",
      "Epoch 2/50\n",
      "34/34 [==============================] - 438s 13s/step - loss: 0.4112 - acc: 0.6167 - val_loss: 0.3806 - val_acc: 0.6047\n",
      "Epoch 3/50\n",
      "34/34 [==============================] - 440s 13s/step - loss: 0.3319 - acc: 0.7024 - val_loss: 0.2988 - val_acc: 0.7375\n",
      "Epoch 4/50\n",
      "34/34 [==============================] - 453s 13s/step - loss: 0.2822 - acc: 0.7644 - val_loss: 0.2292 - val_acc: 0.8142\n",
      "Epoch 5/50\n",
      "34/34 [==============================] - 431s 13s/step - loss: 0.2237 - acc: 0.8227 - val_loss: 0.2221 - val_acc: 0.8142\n",
      "Epoch 6/50\n",
      "34/34 [==============================] - 451s 13s/step - loss: 0.1811 - acc: 0.8612 - val_loss: 0.1920 - val_acc: 0.8732\n",
      "Epoch 7/50\n",
      "34/34 [==============================] - 478s 14s/step - loss: 0.1578 - acc: 0.8877 - val_loss: 0.1986 - val_acc: 0.8437\n",
      "Epoch 8/50\n",
      "27/34 [======================>.......] - ETA: 1:34 - loss: 0.1432 - acc: 0.8870"
     ]
    }
   ],
   "source": [
    "inc_history = model.fit(trainX,\n",
    "                     trainY, \n",
    "                     epochs=epochs,\n",
    "                     callbacks = [early_stopping],\n",
    "                     validation_data = (valX,valY),\n",
    "                     batch_size=batch_size,\n",
    "                     verbose=1\n",
    ")"
   ]
  },
  {
   "cell_type": "code",
   "execution_count": null,
   "id": "48e4beba",
   "metadata": {},
   "outputs": [],
   "source": [
    "modelLoss, modelAccuracy = model.evaluate(testX, testY, verbose=0)\n",
    "\n",
    "print('Test Loss is {}'.format(modelLoss))\n",
    "print('Test Accuracy is {}'.format(modelAccuracy ))\n",
    "\n"
   ]
  },
  {
   "cell_type": "code",
   "execution_count": null,
   "id": "a9a558fb",
   "metadata": {},
   "outputs": [],
   "source": [
    "modelLoss, modelAccuracy = model.evaluate(trainX, trainY, verbose=0)\n",
    "\n",
    "print('Test Loss is {}'.format(modelLoss))\n",
    "print('Test Accuracy is {}'.format(modelAccuracy ))\n"
   ]
  },
  {
   "cell_type": "code",
   "execution_count": null,
   "id": "45f52079",
   "metadata": {},
   "outputs": [],
   "source": [
    "# classification report on train\n",
    "predIdxs = model.predict(trainX, batch_size=batch_size)\n",
    "predIdxs = np.argmax(predIdxs, axis=1)\n",
    "print(classification_report(trainY.argmax(axis=1), predIdxs, target_names=le.classes_, digits = 5))"
   ]
  },
  {
   "cell_type": "code",
   "execution_count": null,
   "id": "bcecde3d",
   "metadata": {},
   "outputs": [],
   "source": [
    "# classification report on test\n",
    "\n",
    "predIdxs = model.predict(testX, batch_size=batch_size)\n",
    "predIdxs = np.argmax(predIdxs, axis=1)\n",
    "print(classification_report(testY.argmax(axis=1), predIdxs, target_names=le.classes_, digits = 5))"
   ]
  },
  {
   "cell_type": "code",
   "execution_count": null,
   "id": "6f167ea2",
   "metadata": {},
   "outputs": [],
   "source": [
    "class_names = ['Covid-19', 'Lung Opacity', 'Normal', 'Pneumonia']\n",
    "y_pred = model.predict(testX)\n",
    "print(class_names[np.argmax(y_pred[11])])"
   ]
  },
  {
   "cell_type": "code",
   "execution_count": null,
   "id": "9449ab6c",
   "metadata": {},
   "outputs": [],
   "source": [
    "# Plotting Confusion Matrix\n",
    "x = confusion_matrix(testY.argmax(axis=1),y_pred.argmax(axis=1))\n",
    "Confusion_Matrix = pd.DataFrame(x,index=class_names, columns=class_names)\n",
    "\n",
    "sns.set(font_scale=1.5, color_codes=True, palette='deep')\n",
    "sns.heatmap(Confusion_Matrix, annot=True, annot_kws={'size':16}, fmt='d', cmap='YlGnBu')\n",
    "\n",
    "plt.ylabel(\"Actual\")\n",
    "plt.xlabel(\"Predicted\")\n",
    "plt.title('Confusion Matrix')\n",
    "plt.show()"
   ]
  },
  {
   "cell_type": "code",
   "execution_count": null,
   "id": "cb562ad4",
   "metadata": {},
   "outputs": [],
   "source": [
    "plt.plot(inc_history.history['acc'], label='accuracy')\n",
    "plt.plot(inc_history.history['loss'], label = 'loss')\n",
    "plt.xlabel('Epoch')\n",
    "plt.ylabel('Accuracy')\n",
    "plt.ylim([0,1])\n",
    "plt.legend(loc='center right')\n"
   ]
  },
  {
   "cell_type": "code",
   "execution_count": null,
   "id": "0f6b240f",
   "metadata": {},
   "outputs": [],
   "source": [
    "model.save('inc_history_model.h5') "
   ]
  },
  {
   "cell_type": "code",
   "execution_count": null,
   "id": "048566af",
   "metadata": {},
   "outputs": [],
   "source": []
  },
  {
   "cell_type": "code",
   "execution_count": null,
   "id": "146f859a",
   "metadata": {},
   "outputs": [],
   "source": []
  }
 ],
 "metadata": {
  "kernelspec": {
   "display_name": "Python 3",
   "language": "python",
   "name": "python3"
  },
  "language_info": {
   "codemirror_mode": {
    "name": "ipython",
    "version": 3
   },
   "file_extension": ".py",
   "mimetype": "text/x-python",
   "name": "python",
   "nbconvert_exporter": "python",
   "pygments_lexer": "ipython3",
   "version": "3.8.5"
  }
 },
 "nbformat": 4,
 "nbformat_minor": 5
}
